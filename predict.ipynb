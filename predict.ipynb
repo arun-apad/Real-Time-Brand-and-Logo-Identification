{
 "cells": [
  {
   "cell_type": "code",
   "execution_count": 1,
   "metadata": {},
   "outputs": [],
   "source": [
    "# test script to preform prediction on test images inside \n",
    "# video\n",
    "#   -- image_1.jpg\n",
    "#   -- image_2.jpg\n",
    "#   ..."
   ]
  },
  {
   "cell_type": "code",
   "execution_count": 2,
   "metadata": {},
   "outputs": [
    {
     "name": "stderr",
     "output_type": "stream",
     "text": [
      "C:\\deeplearning\\anaconda\\envs\\tensorflow\\lib\\site-packages\\h5py\\__init__.py:36: FutureWarning: Conversion of the second argument of issubdtype from `float` to `np.floating` is deprecated. In future, it will be treated as `np.float64 == np.dtype(float).type`.\n",
      "  from ._conv import register_converters as _register_converters\n",
      "Using TensorFlow backend.\n"
     ]
    }
   ],
   "source": [
    "# organize imports\n",
    "from __future__ import print_function\n",
    "\n",
    "# keras imports\n",
    "from keras.applications.vgg16 import VGG16, preprocess_input\n",
    "from keras.applications.vgg19 import VGG19, preprocess_input\n",
    "from keras.applications.xception import Xception, preprocess_input\n",
    "from keras.applications.resnet50 import ResNet50, preprocess_input\n",
    "from keras.applications.inception_resnet_v2 import InceptionResNetV2, preprocess_input\n",
    "from keras.applications.mobilenet import MobileNet, preprocess_input\n",
    "from keras.applications.inception_v3 import InceptionV3, preprocess_input\n",
    "from keras.preprocessing import image\n",
    "from keras.models import Model\n",
    "from keras.models import model_from_json\n",
    "from keras.layers import Input"
   ]
  },
  {
   "cell_type": "code",
   "execution_count": 3,
   "metadata": {},
   "outputs": [],
   "source": [
    "# other imports\n",
    "from sklearn.linear_model import LogisticRegression\n",
    "import numpy as np\n",
    "import os\n",
    "import json\n",
    "import pickle\n",
    "import cv2"
   ]
  },
  {
   "cell_type": "code",
   "execution_count": 4,
   "metadata": {},
   "outputs": [],
   "source": [
    "# load the user configs\n",
    "with open('conf/conf.json') as f:    \n",
    "    config = json.load(f)"
   ]
  },
  {
   "cell_type": "code",
   "execution_count": 5,
   "metadata": {},
   "outputs": [],
   "source": [
    "# config variables\n",
    "model_name \t\t= config[\"model\"]\n",
    "weights \t\t= config[\"weights\"]\n",
    "include_top \t= config[\"include_top\"]\n",
    "train_path \t\t= config[\"train_path\"]\n",
    "test_path \t\t= config[\"test_path\"]\n",
    "features_path \t= config[\"features_path\"]\n",
    "labels_path \t= config[\"labels_path\"]\n",
    "test_size \t\t= config[\"test_size\"]\n",
    "results \t\t= config[\"results\"]\n",
    "model_path \t\t= config[\"model_path\"]\n",
    "seed \t\t\t= config[\"seed\"]\n",
    "classifier_path = config[\"classifier_path\"]"
   ]
  },
  {
   "cell_type": "code",
   "execution_count": 6,
   "metadata": {},
   "outputs": [
    {
     "name": "stdout",
     "output_type": "stream",
     "text": [
      "[INFO] loading the classifier...\n"
     ]
    }
   ],
   "source": [
    "# load the trained logistic regression classifier\n",
    "print (\"[INFO] loading the classifier...\")\n",
    "classifier = pickle.load(open(classifier_path, 'rb'))"
   ]
  },
  {
   "cell_type": "code",
   "execution_count": 7,
   "metadata": {},
   "outputs": [
    {
     "name": "stdout",
     "output_type": "stream",
     "text": [
      "WARNING:tensorflow:From C:\\deeplearning\\anaconda\\envs\\tensorflow\\lib\\site-packages\\keras\\backend\\tensorflow_backend.py:1264: calling reduce_prod (from tensorflow.python.ops.math_ops) with keep_dims is deprecated and will be removed in a future version.\n",
      "Instructions for updating:\n",
      "keep_dims is deprecated, use keepdims instead\n"
     ]
    },
    {
     "name": "stderr",
     "output_type": "stream",
     "text": [
      "C:\\deeplearning\\anaconda\\envs\\tensorflow\\lib\\site-packages\\ipykernel_launcher.py:16: UserWarning: Update your `Model` call to the Keras 2 API: `Model(inputs=Tensor(\"in..., outputs=Tensor(\"cu...)`\n",
      "  app.launch_new_instance()\n"
     ]
    }
   ],
   "source": [
    "# pretrained models needed to perform feature extraction on test data too!\n",
    "if model_name == \"vgg16\":\n",
    "\tbase_model = VGG16(weights=weights)\n",
    "\tmodel = Model(input=base_model.input, output=base_model.get_layer('fc1').output)\n",
    "\timage_size = (224, 224)\n",
    "elif model_name == \"vgg19\":\n",
    "\tbase_model = VGG19(weights=weights)\n",
    "\tmodel = Model(input=base_model.input, output=base_model.get_layer('fc1').output)\n",
    "\timage_size = (224, 224)\n",
    "elif model_name == \"resnet50\":\n",
    "\tbase_model = ResNet50(weights=weights)\n",
    "\tmodel = Model(input=base_model.input, output=base_model.get_layer('flatten').output)\n",
    "\timage_size = (224, 224)\n",
    "elif model_name == \"inceptionv3\":\n",
    "\tbase_model = InceptionV3(include_top=include_top, weights=weights, input_tensor=Input(shape=(299,299,3)))\n",
    "\tmodel = Model(input=base_model.input, output=base_model.get_layer('custom').output)\n",
    "\timage_size = (299, 299)\n",
    "elif model_name == \"inceptionresnetv2\":\n",
    "\tbase_model = InceptionResNetV2(include_top=include_top, weights=weights, input_tensor=Input(shape=(299,299,3)))\n",
    "\tmodel = Model(input=base_model.input, output=base_model.get_layer('custom').output)\n",
    "\timage_size = (299, 299)\n",
    "elif model_name == \"mobilenet\":\n",
    "\tbase_model = MobileNet(include_top=include_top, weights=weights, input_tensor=Input(shape=(224,224,3)), input_shape=(224,224,3))\n",
    "\tmodel = Model(input=base_model.input, output=base_model.get_layer('custom').output)\n",
    "\timage_size = (224, 224)\n",
    "elif model_name == \"xception\":\n",
    "\tbase_model = Xception(weights=weights)\n",
    "\tmodel = Model(input=base_model.input, output=base_model.get_layer('avg_pool').output)\n",
    "\timage_size = (299, 299)\n",
    "else:\n",
    "\tbase_model = None"
   ]
  },
  {
   "cell_type": "code",
   "execution_count": 8,
   "metadata": {},
   "outputs": [],
   "source": [
    "# get all the train labels\n",
    "train_labels = os.listdir(train_path)"
   ]
  },
  {
   "cell_type": "code",
   "execution_count": 9,
   "metadata": {},
   "outputs": [],
   "source": [
    "# get all the test images paths\n",
    "test_images = os.listdir(test_path)"
   ]
  },
  {
   "cell_type": "code",
   "execution_count": null,
   "metadata": {},
   "outputs": [],
   "source": [
    "# loop through each image in the test data\n",
    "for image_path in test_images:\n",
    "\tpath \t\t= test_path + \"/\" + image_path\n",
    "\timg \t\t= image.load_img(path, target_size=image_size)\n",
    "\tx \t\t\t= image.img_to_array(img)\n",
    "\tx \t\t\t= np.expand_dims(x, axis=0)\n",
    "\tx \t\t\t= preprocess_input(x)\n",
    "\tfeature \t= model.predict(x)\n",
    "\tflat \t\t= feature.flatten()\n",
    "\tflat \t\t= np.expand_dims(flat, axis=0)\n",
    "\tpreds \t\t= classifier.predict(flat)\n",
    "\tprediction \t= train_labels[preds[0]]\n",
    "\t\n",
    "\t# perform prediction on test image\n",
    "\tprint (\"I think it is a \" + train_labels[preds[0]])\n",
    "\t#img_color = cv2.imread(path, 1)\n",
    "\t#cv2.putText(img_color, \"I think it is a \" + prediction, (140,445), cv2.FONT_HERSHEY_SIMPLEX, 1, (0,0,255), 2)\n",
    "\t#cv2.imshow(\"test\", img_color)\n",
    "\n",
    "\t# key tracker\n",
    "\t#key = cv2.waitKey(0) & 0xFF\n",
    "\t#if (key == ord('q')):\n",
    "\t\t#cv2.destroyAllWindows()"
   ]
  },
  {
   "cell_type": "code",
   "execution_count": null,
   "metadata": {},
   "outputs": [],
   "source": []
  }
 ],
 "metadata": {
  "kernelspec": {
   "display_name": "Python 3",
   "language": "python",
   "name": "python3"
  },
  "language_info": {
   "codemirror_mode": {
    "name": "ipython",
    "version": 3
   },
   "file_extension": ".py",
   "mimetype": "text/x-python",
   "name": "python",
   "nbconvert_exporter": "python",
   "pygments_lexer": "ipython3",
   "version": "3.5.4"
  }
 },
 "nbformat": 4,
 "nbformat_minor": 2
}
